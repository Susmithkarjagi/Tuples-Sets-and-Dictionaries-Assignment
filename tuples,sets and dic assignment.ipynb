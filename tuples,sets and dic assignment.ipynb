{
 "cells": [
  {
   "cell_type": "markdown",
   "id": "084201b9-774a-41c5-bc8a-ba09050be529",
   "metadata": {},
   "source": [
    "### TUPLES,SETS AND DICTIONARY ASSIGNMENT"
   ]
  },
  {
   "cell_type": "markdown",
   "id": "ec23780c-4054-45cc-aea6-3f340a2b4dc9",
   "metadata": {},
   "source": [
    "#ANSWER 1"
   ]
  },
  {
   "cell_type": "markdown",
   "id": "a260b55e-47a0-42b9-b4e4-82166b897e61",
   "metadata": {},
   "source": [
    "A tuple is an ordered, immutable, and heterogeneous collection of elements. Some of the key characteristics of tuples are:\n",
    "\n",
    "Order: Tuples maintain the order of the elements, and this order is an important aspect of the tuple.\n",
    "\n",
    "Immutable: Once a tuple is created, its elements cannot be changed. This means that tuples are immutable, and any attempt to modify a tuple will result in an error.\n",
    "\n",
    "Heterogeneous: Tuples can contain elements of different data types, making them heterogeneous. For example, a tuple can contain an integer, a string, and a float.\n",
    "\n",
    "Accessibility: Elements in a tuple can be accessed using an index, just like in a list. However, unlike lists, tuples do not support item assignment.\n",
    "\n",
    "Yes,  tuples are immutable."
   ]
  },
  {
   "cell_type": "markdown",
   "id": "1714f7d5-caba-48de-a3c7-124563d01c4e",
   "metadata": {},
   "source": [
    "#ANSWER 2"
   ]
  },
  {
   "cell_type": "markdown",
   "id": "42ef9186-d1aa-43d6-9804-362cedaaf143",
   "metadata": {},
   "source": [
    "In Python, tuples are built-in data structures, and they have several built-in methods that you can use to manipulate and work with them. Here are two of the most commonly used tuple methods in Python:\n",
    "\n",
    "1. count method: This method returns the number of times a specified element appears in a tuple. For example, you can count the number of times a specific number appears in a tuple.\n",
    "\n",
    "2. index method: This method returns the index of the first occurrence of a specified element in a tuple. If the specified element is not found, a ValueError is raised."
   ]
  },
  {
   "cell_type": "code",
   "execution_count": null,
   "id": "cc4e18fa-f57c-46dc-b807-f2be9aa5204e",
   "metadata": {},
   "outputs": [],
   "source": [
    "EXAMPLE:"
   ]
  },
  {
   "cell_type": "code",
   "execution_count": 8,
   "id": "5c4b795a-20ec-4c0f-9506-df39d6169c0f",
   "metadata": {},
   "outputs": [],
   "source": [
    "t= (1,2,3,4,2,5,6)"
   ]
  },
  {
   "cell_type": "code",
   "execution_count": 33,
   "id": "dbcb9f0d-e351-46fb-9a3d-5e76077efee6",
   "metadata": {},
   "outputs": [
    {
     "data": {
      "text/plain": [
       "1"
      ]
     },
     "execution_count": 33,
     "metadata": {},
     "output_type": "execute_result"
    }
   ],
   "source": [
    "t.count(4)"
   ]
  },
  {
   "cell_type": "code",
   "execution_count": 36,
   "id": "1065de67-1350-4555-b937-f4cfb857065a",
   "metadata": {},
   "outputs": [
    {
     "data": {
      "text/plain": [
       "5"
      ]
     },
     "execution_count": 36,
     "metadata": {},
     "output_type": "execute_result"
    }
   ],
   "source": [
    "t.index(5)\n"
   ]
  },
  {
   "cell_type": "markdown",
   "id": "9a4adcda-2168-4062-b191-3c702bd1704a",
   "metadata": {},
   "source": [
    "As compared to lists, tuples have fewer built-in methods because they are designed to be lightweight and efficient, with a focus on immutability and data integrity. Lists have more methods to support the dynamic manipulation of elements because they are mutable and can change."
   ]
  },
  {
   "cell_type": "markdown",
   "id": "52140a85-eb72-4253-8a19-6724e43daba7",
   "metadata": {},
   "source": [
    "#ANSWER 3"
   ]
  },
  {
   "cell_type": "markdown",
   "id": "703fba3a-e8bc-4b78-a0e8-d71887167fe7",
   "metadata": {},
   "source": [
    "In Python, the set datatype is a collection that does not allow duplicate items. A set is an unordered collection of unique elements. You can create a set by enclosing a comma-separated list of elements within curly braces {}, or by using the set constructor"
   ]
  },
  {
   "cell_type": "markdown",
   "id": "3353979d-583e-4c7b-8c80-3a183e2d924d",
   "metadata": {},
   "source": [
    "for example:"
   ]
  },
  {
   "cell_type": "code",
   "execution_count": 41,
   "id": "af5cec34-bc25-45f7-865d-626f92ef632f",
   "metadata": {},
   "outputs": [],
   "source": [
    "l=List = [1, 1, 1, 2, 1, 3, 1, 4, 2, 1, 2, 2, 2, 3, 2, 4, 3, 1, 3, 2, 3, 3, 3, 4, 4, 1, 4, 2, 4, 3, 4, 4]"
   ]
  },
  {
   "cell_type": "code",
   "execution_count": 44,
   "id": "79a2f984-3f8c-412a-9fe6-167d0cf6aeba",
   "metadata": {},
   "outputs": [
    {
     "data": {
      "text/plain": [
       "{1, 2, 3, 4}"
      ]
     },
     "execution_count": 44,
     "metadata": {},
     "output_type": "execute_result"
    }
   ],
   "source": [
    "set(l)"
   ]
  },
  {
   "cell_type": "markdown",
   "id": "b6441b87-8f48-4d97-9a06-87cd844e6628",
   "metadata": {},
   "source": [
    "converting list to set will remove all the duplicates."
   ]
  },
  {
   "cell_type": "code",
   "execution_count": 49,
   "id": "6c46e332-3ab9-455d-b11b-5a4874e6ae66",
   "metadata": {},
   "outputs": [],
   "source": [
    "l2=[1,2,2,2,2,3,4,5,\"sushmit\", \"one piece\"]"
   ]
  },
  {
   "cell_type": "code",
   "execution_count": 50,
   "id": "44a07b1b-adb9-4583-89e8-1658998e2bf4",
   "metadata": {},
   "outputs": [
    {
     "data": {
      "text/plain": [
       "[1, 2, 3, 4, 5, 'sushmit', 'one piece']"
      ]
     },
     "execution_count": 50,
     "metadata": {},
     "output_type": "execute_result"
    }
   ],
   "source": [
    "l2"
   ]
  },
  {
   "cell_type": "code",
   "execution_count": 52,
   "id": "bb6d58f8-8bde-4fe7-8ea3-02bab72f7407",
   "metadata": {},
   "outputs": [
    {
     "data": {
      "text/plain": [
       "{1, 2, 3, 4, 5, 'one piece', 'sushmit'}"
      ]
     },
     "execution_count": 52,
     "metadata": {},
     "output_type": "execute_result"
    }
   ],
   "source": [
    "set(l2)"
   ]
  },
  {
   "cell_type": "markdown",
   "id": "132bba21-b4bb-44b1-b243-d08025fdde0b",
   "metadata": {},
   "source": [
    "#ANSWER 4"
   ]
  },
  {
   "cell_type": "markdown",
   "id": "fd641ce9-fad9-4201-ad03-69fdf7ea7837",
   "metadata": {},
   "source": [
    "The union and update methods are used to combine two or more sets in Python. However, there are some important differences between these two methods.\n",
    "\n",
    "union method: This method returns a new set that contains all elements from both sets, but it does not modify the original sets. The union method is used when you want to combine two sets into a new set without modifying the original sets."
   ]
  },
  {
   "cell_type": "markdown",
   "id": "74ff3ff6-4794-4b3c-92c3-48348370b974",
   "metadata": {},
   "source": [
    "for example:"
   ]
  },
  {
   "cell_type": "code",
   "execution_count": 73,
   "id": "5e274e47-ab76-44ec-8b66-576b39419552",
   "metadata": {},
   "outputs": [],
   "source": [
    "set1 ={1,2,3,4,}\n"
   ]
  },
  {
   "cell_type": "code",
   "execution_count": 72,
   "id": "341988e3-af45-4b72-be8f-b8ef17bf6e22",
   "metadata": {},
   "outputs": [
    {
     "name": "stdout",
     "output_type": "stream",
     "text": [
      "{1, 2, 3, 4, 5, 6}\n"
     ]
    }
   ],
   "source": [
    "set2 ={4,5,6}\n",
    "set3 =set1.union(set2)\n",
    "print(set3)"
   ]
  },
  {
   "cell_type": "markdown",
   "id": "e5d905fa-c718-4b52-8d07-0b504b65fbae",
   "metadata": {},
   "source": [
    "update method: This method updates the first set to include elements from the second set and returns None. The update method modifies the first set, adding elements from the second set to it."
   ]
  },
  {
   "cell_type": "markdown",
   "id": "c83e1241-3ad7-44ad-994c-db5aa206f014",
   "metadata": {},
   "source": [
    "for example:"
   ]
  },
  {
   "cell_type": "code",
   "execution_count": 82,
   "id": "fa109826-9b48-47ff-ac7f-18a321ae8020",
   "metadata": {},
   "outputs": [
    {
     "name": "stdout",
     "output_type": "stream",
     "text": [
      "{1, 2, 3, 4, 5, 6, 7}\n"
     ]
    }
   ],
   "source": [
    "set4={1,2,3,4,5}\n",
    "set5={2,3,4,5,6,7}\n",
    "set4.update(set5)\n",
    "print(set4)\n"
   ]
  },
  {
   "cell_type": "markdown",
   "id": "6fb27785-4b19-4ab9-8e82-386a8db7b877",
   "metadata": {},
   "source": [
    "#ANSWER 5"
   ]
  },
  {
   "cell_type": "markdown",
   "id": "1aee7eeb-4dbc-42cc-af7f-13ca9428c4e1",
   "metadata": {},
   "source": [
    "A dictionary in Python is a built-in data structure that is used to store key-value pairs. Each key maps to a value, and you can use the key to retrieve its associated value. A dictionary is also called a hash map or associative array.\n",
    "\n",
    "In Python, dictionaries are created using curly braces {}, with keys and values separated by colons.\n",
    "Here is an example:"
   ]
  },
  {
   "cell_type": "code",
   "execution_count": 94,
   "id": "0275fe2d-d3fc-461d-b854-d05ce95cefac",
   "metadata": {},
   "outputs": [],
   "source": [
    "d1={\"name\":\"sushmit\", \"age\": 27,\"fav anime\":\"one piece\", \"pwskills\":\"data science\"}"
   ]
  },
  {
   "cell_type": "code",
   "execution_count": 95,
   "id": "54c5de93-81aa-47e5-a3c7-86d15143d637",
   "metadata": {},
   "outputs": [
    {
     "name": "stdout",
     "output_type": "stream",
     "text": [
      "{'name': 'sushmit', 'age': 27, 'fav anime': 'one piece', 'pwskills': 'data science'}\n"
     ]
    }
   ],
   "source": [
    "print(d1)"
   ]
  },
  {
   "cell_type": "markdown",
   "id": "20cd78de-a398-4740-95a3-607c635eb031",
   "metadata": {},
   "source": [
    "Dictionaries in Python are unordered, which means that the items in a dictionary do not have a specific order. The order of the items in a dictionary may change when you add, remove, or modify items in the dictionary. Therefore, if you need to preserve the order of items in a collection, you should use a list or a tuple instead of a dictionary."
   ]
  },
  {
   "cell_type": "markdown",
   "id": "82feb06e-1a6e-40b4-af00-6ca9aa9b9145",
   "metadata": {},
   "source": [
    "#ANSWER 6"
   ]
  },
  {
   "cell_type": "markdown",
   "id": "06c374b2-355b-4633-bf0a-e843551e96d4",
   "metadata": {},
   "source": [
    "Yes, you can create a nested dictionary in Python, which means that you can have a dictionary as a value for one or more keys in another dictionary."
   ]
  },
  {
   "cell_type": "markdown",
   "id": "3e3a868d-d656-43f1-811b-360dff5027fc",
   "metadata": {},
   "source": [
    "here is a example:"
   ]
  },
  {
   "cell_type": "code",
   "execution_count": 101,
   "id": "d0eb4fa7-384f-4a3c-9b2c-900e00145671",
   "metadata": {},
   "outputs": [],
   "source": [
    "d2={\"anime\":{'one piece','naruto','attack on titan'},\"names\":{'sushmit','bhim'}}"
   ]
  },
  {
   "cell_type": "code",
   "execution_count": 102,
   "id": "31c4ed83-3f25-40eb-a63a-2267f7b26cf6",
   "metadata": {},
   "outputs": [
    {
     "data": {
      "text/plain": [
       "{'anime': {'attack on titan', 'naruto', 'one piece'},\n",
       " 'names': {'bhim', 'sushmit'}}"
      ]
     },
     "execution_count": 102,
     "metadata": {},
     "output_type": "execute_result"
    }
   ],
   "source": [
    "d2"
   ]
  },
  {
   "cell_type": "code",
   "execution_count": null,
   "id": "2b97b59b-b5b9-4e29-9a5f-0ba43143870f",
   "metadata": {},
   "outputs": [],
   "source": []
  },
  {
   "cell_type": "markdown",
   "id": "a873ba51-f7a7-4f9d-9506-75e64c64416e",
   "metadata": {},
   "source": [
    "#ANSWER 7"
   ]
  },
  {
   "cell_type": "markdown",
   "id": "8e280509-d02b-4f88-a258-2380e5069ac2",
   "metadata": {},
   "source": [
    "You can use the setdefault method to add a new key-value pair to a dictionary, or update the value of an existing key in the dictionary. The setdefault method takes two arguments: the key to add or update, and the default value to set for the key if it does not exist.\n",
    "\n",
    "Here's an example of how to use the setdefault method to create a key named 'topics' in a dictionary and set its value to a list of strings:"
   ]
  },
  {
   "cell_type": "code",
   "execution_count": 104,
   "id": "afb596e6-b272-44ec-b058-9d618a5096b2",
   "metadata": {},
   "outputs": [],
   "source": [
    "dict1 = {'language' : 'Python', 'course': 'Data Science Masters'}"
   ]
  },
  {
   "cell_type": "code",
   "execution_count": 107,
   "id": "f0979b79-dea8-4cdb-bbe4-e62b623f9005",
   "metadata": {},
   "outputs": [
    {
     "data": {
      "text/plain": [
       "{'language': 'Python', 'course': 'Data Science Masters'}"
      ]
     },
     "execution_count": 107,
     "metadata": {},
     "output_type": "execute_result"
    }
   ],
   "source": [
    "dict1"
   ]
  },
  {
   "cell_type": "code",
   "execution_count": 113,
   "id": "ff0f92c6-978a-47ea-88db-32aeb2643345",
   "metadata": {},
   "outputs": [
    {
     "data": {
      "text/plain": [
       "['python', 'machine learning', 'deep learning']"
      ]
     },
     "execution_count": 113,
     "metadata": {},
     "output_type": "execute_result"
    }
   ],
   "source": [
    "dict1.setdefault(\"topic\",{\"python\",\"machine learning\",\"deep learning\"})"
   ]
  },
  {
   "cell_type": "code",
   "execution_count": 114,
   "id": "9a56e346-0f28-4941-a926-8ec62118c186",
   "metadata": {},
   "outputs": [
    {
     "data": {
      "text/plain": [
       "{'language': 'Python',\n",
       " 'course': 'Data Science Masters',\n",
       " 'topic': ['python', 'machine learning', 'deep learning']}"
      ]
     },
     "execution_count": 114,
     "metadata": {},
     "output_type": "execute_result"
    }
   ],
   "source": [
    "dict1"
   ]
  },
  {
   "cell_type": "code",
   "execution_count": null,
   "id": "f05615cb-4fba-41bd-be3d-e21c207ade02",
   "metadata": {},
   "outputs": [],
   "source": []
  },
  {
   "cell_type": "markdown",
   "id": "6c9aa178-2767-42ba-8385-c379637ef599",
   "metadata": {},
   "source": [
    "#ANSWER 8"
   ]
  },
  {
   "cell_type": "markdown",
   "id": "e03a14b7-0f9f-4bca-93b4-76cf908f6af4",
   "metadata": {},
   "source": [
    "In Python, dictionaries have three view objects: keys(), values(), and items().\n",
    "\n",
    "1.The keys() method returns a view object that displays a list of all the keys in the dictionary.\n",
    "\n",
    "2.The values() method returns a view object that displays a list of all the values in the dictionary.\n",
    "\n",
    "3.The items() method returns a view object that displays a list of all the key-value pairs in the dictionary as tuples."
   ]
  },
  {
   "cell_type": "markdown",
   "id": "ec1f37a4-4aac-455b-a3dc-518e8bd5c104",
   "metadata": {},
   "source": [
    "Here's an example of how to use the three view objects to display the keys, values, and key-value pairs in the given dictionary dict1:"
   ]
  },
  {
   "cell_type": "code",
   "execution_count": 115,
   "id": "a724f95f-a40c-420c-b736-be5e7136b974",
   "metadata": {},
   "outputs": [],
   "source": [
    "dict2 = {'Sport': 'Cricket' , 'Teams': ['India', 'Australia', 'England', 'South Africa', 'Sri Lanka', 'New Zealand']}\n"
   ]
  },
  {
   "cell_type": "code",
   "execution_count": 120,
   "id": "34691dff-9db0-404f-9b30-c61b93deb7dc",
   "metadata": {},
   "outputs": [],
   "source": [
    "keys=dict2.keys()"
   ]
  },
  {
   "cell_type": "code",
   "execution_count": 121,
   "id": "945ce0d5-d350-41d5-8255-cb64c0155cd0",
   "metadata": {},
   "outputs": [
    {
     "data": {
      "text/plain": [
       "dict_keys(['Sport', 'Teams'])"
      ]
     },
     "execution_count": 121,
     "metadata": {},
     "output_type": "execute_result"
    }
   ],
   "source": [
    "keys"
   ]
  },
  {
   "cell_type": "code",
   "execution_count": 122,
   "id": "6b7cc0d0-c863-4d58-b749-660649f04796",
   "metadata": {},
   "outputs": [],
   "source": [
    "values=dict2.values()"
   ]
  },
  {
   "cell_type": "code",
   "execution_count": 123,
   "id": "411615f6-8b72-4697-9f2f-874497c89e59",
   "metadata": {},
   "outputs": [
    {
     "data": {
      "text/plain": [
       "dict_values(['Cricket', ['India', 'Australia', 'England', 'South Africa', 'Sri Lanka', 'New Zealand']])"
      ]
     },
     "execution_count": 123,
     "metadata": {},
     "output_type": "execute_result"
    }
   ],
   "source": [
    "values"
   ]
  },
  {
   "cell_type": "code",
   "execution_count": 124,
   "id": "10e46668-8529-4142-b98c-28f817c40213",
   "metadata": {},
   "outputs": [],
   "source": [
    "items=dict2.items()"
   ]
  },
  {
   "cell_type": "code",
   "execution_count": 125,
   "id": "e324c622-2f54-4b18-801d-26e6348a3b6d",
   "metadata": {},
   "outputs": [
    {
     "data": {
      "text/plain": [
       "dict_items([('Sport', 'Cricket'), ('Teams', ['India', 'Australia', 'England', 'South Africa', 'Sri Lanka', 'New Zealand'])])"
      ]
     },
     "execution_count": 125,
     "metadata": {},
     "output_type": "execute_result"
    }
   ],
   "source": [
    "items"
   ]
  },
  {
   "cell_type": "code",
   "execution_count": null,
   "id": "d559c0c2-e67d-447a-8a7a-08ac3b2eff84",
   "metadata": {},
   "outputs": [],
   "source": []
  }
 ],
 "metadata": {
  "kernelspec": {
   "display_name": "Python 3 (ipykernel)",
   "language": "python",
   "name": "python3"
  },
  "language_info": {
   "codemirror_mode": {
    "name": "ipython",
    "version": 3
   },
   "file_extension": ".py",
   "mimetype": "text/x-python",
   "name": "python",
   "nbconvert_exporter": "python",
   "pygments_lexer": "ipython3",
   "version": "3.10.8"
  }
 },
 "nbformat": 4,
 "nbformat_minor": 5
}
